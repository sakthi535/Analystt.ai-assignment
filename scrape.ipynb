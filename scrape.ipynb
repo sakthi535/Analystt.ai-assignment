{
 "cells": [
  {
   "cell_type": "code",
   "execution_count": 1,
   "metadata": {},
   "outputs": [],
   "source": [
    "from bs4 import BeautifulSoup\n",
    "import requests\n",
    "import csv"
   ]
  },
  {
   "cell_type": "code",
   "execution_count": 2,
   "metadata": {},
   "outputs": [],
   "source": [
    "with open(\"./scraper.html\", encoding=\"utf8\") as fp:\n",
    "    doc = BeautifulSoup(fp, 'html.parser')"
   ]
  },
  {
   "cell_type": "code",
   "execution_count": 3,
   "metadata": {},
   "outputs": [],
   "source": [
    "\n",
    "classToFind = 'a-section a-spacing-small a-spacing-top-small'\n",
    "namePattern = 'a-size-medium a-color-base a-text-normal'\n",
    "pricePattern = 'a-price-whole'\n",
    "ratingValuePattern = 'a-size-base'\n",
    "ratingCountPattern = 'a-size-base s-underline-text'\n",
    "targetLinkPattern = 'a-link-normal s-underline-text s-underline-link-text s-link-style a-text-normal'\n"
   ]
  },
  {
   "cell_type": "code",
   "execution_count": 30,
   "metadata": {},
   "outputs": [],
   "source": [
    "bags = doc.find_all([\"div\"], class_=classToFind, partial = False)"
   ]
  },
  {
   "cell_type": "code",
   "execution_count": 31,
   "metadata": {},
   "outputs": [
    {
     "data": {
      "text/plain": [
       "[]"
      ]
     },
     "execution_count": 31,
     "metadata": {},
     "output_type": "execute_result"
    }
   ],
   "source": [
    "bags"
   ]
  },
  {
   "cell_type": "code",
   "execution_count": 15,
   "metadata": {},
   "outputs": [],
   "source": [
    "List = bags[1].children"
   ]
  },
  {
   "cell_type": "code",
   "execution_count": 16,
   "metadata": {},
   "outputs": [],
   "source": [
    "NameTag = next(List)\n",
    "RatingTag = next(List)\n",
    "PriceTag = next(List)"
   ]
  },
  {
   "cell_type": "code",
   "execution_count": 17,
   "metadata": {},
   "outputs": [
    {
     "data": {
      "text/plain": [
       "<div class=\"a-section a-spacing-none a-spacing-top-micro\"><div class=\"a-row a-size-small\"><span aria-label=\"3.9 out of 5 stars\"><span class=\"a-size-base\">3.9</span><span class=\"a-letter-space\"></span><span class=\"a-declarative\" data-a-popover='{\"closeButton\":false,\"closeButtonLabel\":\"\",\"position\":\"triggerBottom\",\"popoverLabel\":\"\",\"url\":\"/review/widgets/average-customer-review/popover/ref=acr_search__popover?ie=UTF8&amp;asin=B01LXNNFDF&amp;ref=acr_search__popover&amp;contextId=search\"}' data-action=\"a-popover\" data-csa-c-func-deps=\"aui-da-a-popover\" data-csa-c-id=\"q36q97-vrtgqu-r6m6au-q2ra8u\" data-csa-c-type=\"widget\"><a class=\"a-popover-trigger a-declarative\" href=\"javascript:void(0)\" role=\"button\"><i class=\"a-icon a-icon-star-small a-star-small-4 aok-align-bottom\"><span class=\"a-icon-alt\">3.9 out of 5 stars</span></i><i class=\"a-icon a-icon-popover\"></i></a></span> </span><span aria-label=\"684\"><a class=\"a-link-normal s-underline-text s-underline-link-text s-link-style\" href=\"/sspa/click?ie=UTF8&amp;spc=MTo0MTk1MjAwMTEzODc3NzM3OjE2NzU0MzAwMjY6c3BfYXRmOjIwMTA0MTQwMjYzNjk4OjowOjo&amp;url=%2FUrban-Tribe-Laptop-Backpack-Havana%2Fdp%2FB01LXNNFDF%2Fref%3Dsr_1_1_sspa%3Fcrid%3D2M096C61O4MLT%26keywords%3Dbags%26qid%3D1675430026%26sprefix%3Dba%252Caps%252C283%26sr%3D8-1-spons%26sp_csd%3Dd2lkZ2V0TmFtZT1zcF9hdGY%26psc%3D1%26smid%3DA385M0TPSNV7VS#customerReviews\" target=\"_blank\"><span class=\"a-size-base s-underline-text\">(684)</span> </a> </span></div></div>"
      ]
     },
     "execution_count": 17,
     "metadata": {},
     "output_type": "execute_result"
    }
   ],
   "source": [
    "RatingTag"
   ]
  },
  {
   "cell_type": "code",
   "execution_count": 18,
   "metadata": {},
   "outputs": [],
   "source": [
    "Name = NameTag.find_all([\"span\"], class_ = namePattern, partial = False)[0].text\n",
    "Price = PriceTag.find_all([\"span\"], class_= pricePattern, partial = False)[0].text\n",
    "Rating = RatingTag.find_all([\"span\"], class_ = ratingValuePattern, partial = False)[0].text\n",
    "RatingCount = RatingTag.find_all([\"span\"], class_ = ratingCountPattern, partial = False)[0].text\n",
    "ProductLink = NameTag.find_all([\"a\"], class_ = targetLinkPattern, partial = False)[0].text"
   ]
  },
  {
   "cell_type": "code",
   "execution_count": 21,
   "metadata": {},
   "outputs": [
    {
     "data": {
      "text/plain": [
       "'3.9'"
      ]
     },
     "execution_count": 21,
     "metadata": {},
     "output_type": "execute_result"
    }
   ],
   "source": [
    "Rating"
   ]
  },
  {
   "cell_type": "code",
   "execution_count": 25,
   "metadata": {},
   "outputs": [
    {
     "data": {
      "text/plain": [
       "'/sspa/click?ie=UTF8&spc=MTo0MTk1MjAwMTEzODc3NzM3OjE2NzU0MzAwMjY6c3BfYXRmOjIwMTA0MTQwMjYzNjk4OjowOjo&url=%2FUrban-Tribe-Laptop-Backpack-Havana%2Fdp%2FB01LXNNFDF%2Fref%3Dsr_1_1_sspa%3Fcrid%3D2M096C61O4MLT%26keywords%3Dbags%26qid%3D1675430026%26sprefix%3Dba%252Caps%252C283%26sr%3D8-1-spons%26sp_csd%3Dd2lkZ2V0TmFtZT1zcF9hdGY%26psc%3D1%26smid%3DA385M0TPSNV7VS'"
      ]
     },
     "execution_count": 25,
     "metadata": {},
     "output_type": "execute_result"
    }
   ],
   "source": [
    "NameTag.find_all([\"a\"], class_ = targetLinkPattern, partial = False)[0]['href']"
   ]
  },
  {
   "cell_type": "code",
   "execution_count": 26,
   "metadata": {},
   "outputs": [],
   "source": [
    "result = requests.get('https://www.amazon.in/s?k=bags&page=20&crid=2M096C61O4MLT&qid=1675436438&sprefix=ba%2Caps%2C283&ref=sr_pg_3')"
   ]
  },
  {
   "cell_type": "code",
   "execution_count": 29,
   "metadata": {},
   "outputs": [],
   "source": [
    "doc = BeautifulSoup(result.text, \"html.parser\") "
   ]
  },
  {
   "cell_type": "code",
   "execution_count": 32,
   "metadata": {},
   "outputs": [
    {
     "data": {
      "text/plain": [
       "<html>\n",
       "<head>\n",
       "<title>503 - Service Unavailable Error</title>\n",
       "</head>\n",
       "<body bgcolor=\"#FFFFFF\" text=\"#000000\">\n",
       "<!--\n",
       "        To discuss automated access to Amazon data please contact api-services-support@amazon.com.\n",
       "        For information about migrating to our APIs refer to our Marketplace APIs at https://developer.amazonservices.in/ref=rm_5_sv, or our Product Advertising API at https://affiliate-program.amazon.in/gp/advertising/api/detail/main.html/ref=rm_5_ac for advertising use cases.\n",
       "-->\n",
       "<center>\n",
       "<a href=\"https://www.amazon.in/ref=cs_503_logo/\">\n",
       "<img alt=\"Amazon.in\" border=\"0\" height=\"45\" src=\"https://images-eu.ssl-images-amazon.com/images/G/31/x-locale/communities/people/logo.gif\" width=\"200\"/></a>\n",
       "<p align=\"center\">\n",
       "<font face=\"Verdana,Arial,Helvetica\">\n",
       "<font color=\"#CC6600\" size=\"+2\"><b>Oops!</b></font><br/>\n",
       "<b>It's rush hour and traffic is piling up on that page. Please try again in a short while.<br/>If you were trying to place an order, it will not have been processed at this time.</b><p>\n",
       "<img alt=\"*\" border=\"0\" height=\"9\" src=\"https://images-eu.ssl-images-amazon.com/images/G/02/x-locale/common/orange-arrow.gif\" width=\"10\"/>\n",
       "<b><a href=\"https://www.amazon.in/ref=cs_503_link/\">Go to the Amazon.in home page to continue shopping</a></b>\n",
       "</p></font>\n",
       "</p></center>\n",
       "</body>\n",
       "</html>"
      ]
     },
     "execution_count": 32,
     "metadata": {},
     "output_type": "execute_result"
    }
   ],
   "source": [
    "doc"
   ]
  },
  {
   "cell_type": "code",
   "execution_count": 33,
   "metadata": {},
   "outputs": [],
   "source": [
    "with open(\"./bag1.html\", encoding=\"utf8\") as fp:\n",
    "    doc = BeautifulSoup(fp, 'html.parser')"
   ]
  },
  {
   "cell_type": "code",
   "execution_count": 34,
   "metadata": {},
   "outputs": [],
   "source": [
    "descriptionPattern = \"a-unordered-list a-vertical a-spacing-mini\"\n",
    "featureListId = 'detailBullets_feature_div'\n",
    "productDescId = 'productDescription'"
   ]
  },
  {
   "cell_type": "code",
   "execution_count": 38,
   "metadata": {},
   "outputs": [],
   "source": [
    "bags = doc.find_all([\"ul\"], class_=descriptionPattern, partial = False)"
   ]
  },
  {
   "cell_type": "code",
   "execution_count": 42,
   "metadata": {},
   "outputs": [
    {
     "data": {
      "text/plain": [
       "'  FUNCTIONALITY WITH STYLE: The Wenger 17.5\" ScanSmart Laptop Backpack allows you to breeze through airport security with ease as it offers superior protection for your laptop at airport security controls and a dedicated tablet pocket. Travel with confidence with your valuable items securely stored in your well-built backpack.    OPTIMUM COMFORT: Reinforced soft-grip grab handle for easy carrying. The Airflow back padding keeps wearer cool. The Shock-absorbing shoulder straps provides maximum comfort. Plethora of features to make you a distinguished traveler.    COMPREHENSIVE FEATURES: An ample main compartment integrates a mesh adapters zip pocket for cords, chargers and other tech accessories. While weaving through airport traffic, grab a cool drink from its side zip pockets. Featuring a convenient front pocket and an organizer compartment with multiple divider pockets, leave your MetroCard, smartphone, and supplies ready whenever you are.    TECHNICAL SPECIFICATIONS: Dimensions: 46 x 24 x 35 cm Weight: 0.9 kg Capacity: 30 L    5 YEAR WENGER WARRANTY: Our products undergo strict quality controls & rigorous testing standards. Nevertheless, should you encounter a problem with your product, we are offering you a 5-year warranty.   '"
      ]
     },
     "execution_count": 42,
     "metadata": {},
     "output_type": "execute_result"
    }
   ],
   "source": [
    "bags[0].text"
   ]
  },
  {
   "cell_type": "code",
   "execution_count": 43,
   "metadata": {},
   "outputs": [],
   "source": [
    "bags = doc.find_all([\"div\"], id=productDescId, partial = False)"
   ]
  },
  {
   "cell_type": "code",
   "execution_count": 45,
   "metadata": {},
   "outputs": [
    {
     "data": {
      "text/plain": [
       "' \\n The Wenger 17.5\" ScanSmart Laptop Backpack marries contemporary design with innovative storage solutions. Crafted from durable polyester, this backpack means business. This classic backpack is simple yet stylish. Its minimalistic look makes it the ideal accessory to take along to the office, college, school or on trips. Brought to you by Wenger, a renowned Swiss company since 1893.  '"
      ]
     },
     "execution_count": 45,
     "metadata": {},
     "output_type": "execute_result"
    }
   ],
   "source": [
    "bags[0].text"
   ]
  },
  {
   "cell_type": "code",
   "execution_count": 46,
   "metadata": {},
   "outputs": [],
   "source": [
    "featureList = doc.find_all([\"div\"], id=featureListId, partial = False)"
   ]
  },
  {
   "cell_type": "code",
   "execution_count": 48,
   "metadata": {},
   "outputs": [
    {
     "data": {
      "text/plain": [
       "1"
      ]
     },
     "execution_count": 48,
     "metadata": {},
     "output_type": "execute_result"
    }
   ],
   "source": [
    "len(featureList)"
   ]
  },
  {
   "cell_type": "code",
   "execution_count": 52,
   "metadata": {},
   "outputs": [],
   "source": [
    "parent = featureList[0].select_one(\"div ul li:nth-of-type(3)\")\n",
    "child = parent.select_one(\"li span span:nth-of-type(2)\")"
   ]
  },
  {
   "cell_type": "code",
   "execution_count": 54,
   "metadata": {},
   "outputs": [
    {
     "data": {
      "text/plain": [
       "<span>Victorinox</span>"
      ]
     },
     "execution_count": 54,
     "metadata": {},
     "output_type": "execute_result"
    }
   ],
   "source": [
    "featureList[0].select_one(\"div ul li:nth-of-type(3) span span:nth-of-type(2)\")"
   ]
  },
  {
   "cell_type": "code",
   "execution_count": 132,
   "metadata": {},
   "outputs": [],
   "source": [
    "bag = '/ADISA-Laptop-Backpack-Office-College/dp/B09TPX22NF'"
   ]
  },
  {
   "cell_type": "code",
   "execution_count": 133,
   "metadata": {},
   "outputs": [],
   "source": [
    "result = requests.get(f\"https://www.amazon.in{bag}\")"
   ]
  },
  {
   "cell_type": "code",
   "execution_count": 135,
   "metadata": {},
   "outputs": [
    {
     "data": {
      "text/plain": [
       "<Response [503]>"
      ]
     },
     "execution_count": 135,
     "metadata": {},
     "output_type": "execute_result"
    }
   ],
   "source": [
    "result"
   ]
  },
  {
   "cell_type": "code",
   "execution_count": 134,
   "metadata": {},
   "outputs": [
    {
     "data": {
      "text/plain": [
       "7117"
      ]
     },
     "execution_count": 134,
     "metadata": {},
     "output_type": "execute_result"
    }
   ],
   "source": [
    "techListId = 'productDetails_techSpec_section_1'\n",
    "len(result.text)"
   ]
  },
  {
   "cell_type": "code",
   "execution_count": 130,
   "metadata": {},
   "outputs": [],
   "source": [
    "doc = BeautifulSoup(result.text, \"html.parser\") \n",
    "\n",
    "descContent = doc.find_all([\"ul\"], class_=descriptionPattern, partial = False)\n",
    "desc = descContent[0].text if bool(descContent) else ''\n",
    "\n",
    "\n",
    "productDescContent = doc.find_all([\"div\"], id=productDescId, partial = False) \n",
    "productDesc = productDescContent[0].text if bool(productDescContent) else ''\n",
    "featureList = doc.find_all([\"div\"], id=featureListId, partial = False)\n",
    "techList = doc.find_all([\"table\"], id = techListId, partial = False)\n",
    "addList = doc.find_all([\"table\"], id = \"productDetails_detailBullets_sections1\", partial = False)\n",
    "\n",
    "if (not bool(featureList)):\n",
    "# table.find_all('tr')[11].text.\n",
    "        manufacturer = techList[0].find_all('tr')[11].text.split('\\u200e')[1].strip()\n",
    "        asin = addList[0].find_all('tr')[0].text.split()[1]\n",
    "else:\n",
    "        manufacturer = featureList[0].select_one(\"div ul li:nth-of-type(3) span span:nth-of-type(2)\").text\n",
    "        asin = featureList[0].select_one(\"div ul li:nth-of-type(4) span span:nth-of-type(2)\").text\n"
   ]
  },
  {
   "cell_type": "code",
   "execution_count": 81,
   "metadata": {},
   "outputs": [
    {
     "data": {
      "text/plain": [
       "[]"
      ]
     },
     "execution_count": 81,
     "metadata": {},
     "output_type": "execute_result"
    }
   ],
   "source": [
    "doc.find_all([\"div\"], id=featureListId, partial = False)"
   ]
  },
  {
   "cell_type": "code",
   "execution_count": 131,
   "metadata": {},
   "outputs": [
    {
     "data": {
      "text/plain": [
       "['VIP Industries Ltd', 'B08Z1HHHTD', 205, 135]"
      ]
     },
     "execution_count": 131,
     "metadata": {},
     "output_type": "execute_result"
    }
   ],
   "source": [
    "[manufacturer, asin, len(desc), len(productDesc)]"
   ]
  },
  {
   "cell_type": "code",
   "execution_count": 84,
   "metadata": {},
   "outputs": [],
   "source": [
    "techList = doc.find_all([\"table\"], id = \"productDetails_techSpec_section_1\", partial = False)"
   ]
  },
  {
   "cell_type": "code",
   "execution_count": 97,
   "metadata": {},
   "outputs": [],
   "source": [
    "table = techList[0]"
   ]
  },
  {
   "cell_type": "code",
   "execution_count": 113,
   "metadata": {},
   "outputs": [
    {
     "data": {
      "text/plain": [
       "'Wesley'"
      ]
     },
     "execution_count": 113,
     "metadata": {},
     "output_type": "execute_result"
    }
   ],
   "source": [
    "table.find_all('tr')[11].text.split('\\u200e')[1].strip()"
   ]
  },
  {
   "cell_type": "code",
   "execution_count": 120,
   "metadata": {},
   "outputs": [
    {
     "data": {
      "text/plain": [
       "'B084JGJ8PF'"
      ]
     },
     "execution_count": 120,
     "metadata": {},
     "output_type": "execute_result"
    }
   ],
   "source": [
    "addList = doc.find_all([\"table\"], id = \"productDetails_detailBullets_sections1\", partial = False)\n",
    "addList[0].find_all('tr')[0].text.split()[1]"
   ]
  },
  {
   "cell_type": "code",
   "execution_count": 116,
   "metadata": {},
   "outputs": [
    {
     "data": {
      "text/plain": [
       "[<table class=\"a-keyvalue prodDetTable\" id=\"productDetails_detailBullets_sections1\" role=\"presentation\"> <tr> <th class=\"a-color-secondary a-size-base prodDetSectionEntry\"> ASIN </th> <td class=\"a-size-base prodDetAttrValue\"> B084JGJ8PF </td> </tr> <tr> <th class=\"a-color-secondary a-size-base prodDetSectionEntry\">Customer Reviews</th> <td class=\"a-size-base\"> <style type=\"text/css\">\n",
       "     /* \n",
       "     * Fix for UDP-1061. Average customer reviews has a small extra line on hover \n",
       "     * https://omni-grok.amazon.com/xref/src/appgroup/websiteTemplates/retail/SoftlinesDetailPageAssets/udp-intl-lock/src/legacy.css?indexName=WebsiteTemplates#40\n",
       "     */\n",
       "     .noUnderline a:hover { \n",
       "         text-decoration: none; \n",
       "     }\n",
       " </style>\n",
       " <div data-asin=\"B084JGJ8PF\" data-ref=\"dpx_acr_pop_\" id=\"averageCustomerReviews\">\n",
       " <span class=\"a-declarative\" data-acrstarslink-click-metrics=\"{}\" data-action=\"acrStarsLink-click-metrics\" data-csa-c-func-deps=\"aui-da-acrStarsLink-click-metrics\" data-csa-c-type=\"widget\"> <span class=\"reviewCountTextLinkedHistogram noUnderline\" id=\"acrPopover\" title=\"4.3 out of 5 stars\">\n",
       " <span class=\"a-declarative\" data-a-popover='{\"max-width\":\"700\",\"closeButton\":\"false\",\"position\":\"triggerBottom\",\"url\":\"/gp/customer-reviews/widgets/average-customer-review/popover/ref=dpx_acr_pop_?contextId=dpx&amp;asin=B084JGJ8PF\"}' data-action=\"a-popover\" data-csa-c-func-deps=\"aui-da-a-popover\" data-csa-c-type=\"widget\"> <a class=\"a-popover-trigger a-declarative\" href=\"javascript:void(0)\" role=\"button\"> <i class=\"a-icon a-icon-star a-star-4-5\"><span class=\"a-icon-alt\">4.3 out of 5 stars</span></i> <i class=\"a-icon a-icon-popover\"></i></a> </span> <span class=\"a-letter-space\"></span> </span>\n",
       " </span> <span class=\"a-letter-space\"></span> <span class=\"a-declarative\" data-acrlink-click-metrics=\"{}\" data-action=\"acrLink-click-metrics\" data-csa-c-func-deps=\"aui-da-acrLink-click-metrics\" data-csa-c-type=\"widget\"> <a class=\"a-link-normal\" href=\"#customerReviews\" id=\"acrCustomerReviewLink\"> <span class=\"a-size-base\" id=\"acrCustomerReviewText\">9,233 ratings</span> </a> </span> <script type=\"text/javascript\">\n",
       "                     P.when('A', 'ready').execute(function(A) {\n",
       "                         A.declarative('acrLink-click-metrics', 'click', { \"allowLinkDefault\" : true }, function(event){\n",
       "                             if(window.ue) {\n",
       "                                 ue.count(\"acrLinkClickCount\", (ue.count(\"acrLinkClickCount\") || 0) + 1);\n",
       "                             }\n",
       "                         });\n",
       "                     });\n",
       "                 </script>\n",
       " <script type=\"text/javascript\">\n",
       "             P.when('A', 'cf').execute(function(A) {\n",
       "                 A.declarative('acrStarsLink-click-metrics', 'click', { \"allowLinkDefault\" : true },  function(event){\n",
       "                     if(window.ue) {\n",
       "                         ue.count(\"acrStarsLinkWithPopoverClickCount\", (ue.count(\"acrStarsLinkWithPopoverClickCount\") || 0) + 1);\n",
       "                     }\n",
       "                 });\n",
       "             });\n",
       "         </script>\n",
       " </div>\n",
       " <br/> 4.3 out of 5 stars </td> </tr> <tr> <th class=\"a-color-secondary a-size-base prodDetSectionEntry\"> Best Sellers Rank </th> <td> <span> <span>#210 in Electronics (<a href=\"/gp/bestsellers/electronics/ref=pd_zg_ts_electronics\">See Top 100 in Electronics</a>)</span> <br/> <span>#1 in <a href=\"/gp/bestsellers/computers/1375464031/ref=pd_zg_hrsr_computers\">Laptop Backpacks</a></span> <br/> </span> </td> </tr> <tr> <th class=\"a-color-secondary a-size-base prodDetSectionEntry\"> Date First Available </th> <td class=\"a-size-base prodDetAttrValue\"> 15 August 2020 </td> </tr> <tr> <th class=\"a-color-secondary a-size-base prodDetSectionEntry\"> Packer </th> <td class=\"a-size-base prodDetAttrValue\"> Longani Trading Company, F-82, Sector-1, Bawana Industrial Area, Delhi-110039 </td> </tr> <tr> <th class=\"a-color-secondary a-size-base prodDetSectionEntry\"> Item Dimensions LxWxH </th> <td class=\"a-size-base prodDetAttrValue\"> 31.8 x 17.8 x 45.7 Centimeters </td> </tr> <tr> <th class=\"a-color-secondary a-size-base prodDetSectionEntry\"> Net Quantity </th> <td class=\"a-size-base prodDetAttrValue\"> 1 U </td> </tr> <tr> <th class=\"a-color-secondary a-size-base prodDetSectionEntry\"> Generic Name </th> <td class=\"a-size-base prodDetAttrValue\"> Laptop Backpack </td> </tr> </table>]"
      ]
     },
     "execution_count": 116,
     "metadata": {},
     "output_type": "execute_result"
    }
   ],
   "source": [
    "addList"
   ]
  },
  {
   "cell_type": "code",
   "execution_count": null,
   "metadata": {},
   "outputs": [],
   "source": []
  }
 ],
 "metadata": {
  "kernelspec": {
   "display_name": "Python 3",
   "language": "python",
   "name": "python3"
  },
  "language_info": {
   "codemirror_mode": {
    "name": "ipython",
    "version": 3
   },
   "file_extension": ".py",
   "mimetype": "text/x-python",
   "name": "python",
   "nbconvert_exporter": "python",
   "pygments_lexer": "ipython3",
   "version": "3.10.4"
  },
  "orig_nbformat": 4,
  "vscode": {
   "interpreter": {
    "hash": "6d27301bfb314820993128590488ac4153a7b261eadfb1417adf96bad088ba5d"
   }
  }
 },
 "nbformat": 4,
 "nbformat_minor": 2
}
